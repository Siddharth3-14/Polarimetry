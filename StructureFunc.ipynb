{
 "cells": [
  {
   "cell_type": "code",
   "execution_count": 8,
   "metadata": {},
   "outputs": [],
   "source": [
    "from math import degrees\n",
    "import numpy as np\n",
    "import pandas as pd\n",
    "from astropy import units as u\n",
    "from astropy.coordinates import SkyCoord\n",
    "import matplotlib.pyplot as plt\n",
    "from scipy.optimize import curve_fit"
   ]
  },
  {
   "cell_type": "code",
   "execution_count": 9,
   "metadata": {},
   "outputs": [],
   "source": [
    "datafile = 'data_gaia_added/L328_pol_full_mod2.csv'\n",
    "\n",
    "data = pd.read_csv(datafile,delimiter=',')\n",
    "data = data[(data['P']/data['eP']) > 2]\n",
    "data = data[data['distance_parallax']/1000 < 4]\n",
    "data = data[0<data['distance_parallax']/1000]\n",
    "ra = np.array(data['ra'])\n",
    "dec = np.array(data['dec'])\n",
    "PA = np.array(data['PA'])\n",
    "ePA = np.array(data['ePA'])"
   ]
  },
  {
   "cell_type": "code",
   "execution_count": 10,
   "metadata": {},
   "outputs": [],
   "source": [
    "def Calc_l(ra1,dec1,ra2,dec2):\n",
    "    c1 = SkyCoord(ra1,dec1,unit = 'deg')\n",
    "    c2 = SkyCoord(ra2,dec2,unit = 'deg')\n",
    "    sep = c1.separation(c2)\n",
    "    return sep.arcminute\n",
    "\n",
    "\n",
    "local_PA_minima = 125\n",
    "\n",
    "PA_mod = PA -180*(PA>local_PA_minima)*np.ones_like(PA)\n",
    "# PA_mod = PA\n",
    "distance_mat = np.zeros((ra.shape[0],ra.shape[0]))\n",
    "PolAngleSqr_diff = np.zeros((ra.shape[0],ra.shape[0]))\n",
    "ePolAngleSqr_mat = np.zeros((ra.shape[0],ra.shape[0]))\n",
    "\n",
    "for i in range(ra.shape[0]):\n",
    "    for j in range(i):\n",
    "        distance_mat[i,j] = Calc_l(ra[i],dec[i],ra[j],dec[j])\n",
    "        if (abs(PA_mod[i] - PA_mod[j])<90):\n",
    "            PolAngleSqr_diff[i,j] = (PA_mod[i] - PA_mod[j])**2\n",
    "            ePolAngleSqr_mat[i,j] = ePA[i]**2+ePA[j]**2\n",
    "            distance_mat[i,j] = Calc_l(ra[i],dec[i],ra[j],dec[j])\n",
    "            "
   ]
  },
  {
   "cell_type": "code",
   "execution_count": 11,
   "metadata": {},
   "outputs": [],
   "source": [
    "struc_func = []\n",
    "error_func = []\n",
    "error1_func = []\n",
    "count_array = []\n",
    "l_bins_length = 1.5\n",
    "l_bins = np.arange(0,np.max(distance_mat)+l_bins_length,l_bins_length)\n",
    "l_bins_centre = (l_bins[:-1] + l_bins[1:])/2\n",
    "\n",
    "for k in range(l_bins.shape[0]-1):\n",
    "    count = 0\n",
    "    temp_PolAngle = []\n",
    "    temp_ePolAngle = []\n",
    "    for i in range(PolAngleSqr_diff.shape[0]):\n",
    "        for j in range(i):\n",
    "            if l_bins[k]< distance_mat[i,j]<=l_bins[k+1]:\n",
    "                count += 1\n",
    "                temp_PolAngle.append(PolAngleSqr_diff[i,j])\n",
    "                temp_ePolAngle.append(ePolAngleSqr_mat[i,j])\n",
    "            else:\n",
    "                pass\n",
    "    if count != 0:\n",
    "        temp_PolAngle = np.array(temp_PolAngle)\n",
    "        temp_ePolAngle = np.array(temp_ePolAngle)\n",
    "        std_PA = np.mean(temp_PolAngle) - np.mean(temp_ePolAngle)\n",
    "        mean_PA = np.sqrt(std_PA)\n",
    "        a = np.sqrt(temp_ePolAngle)\n",
    "        err_PA1 = np.std(a)\n",
    "        err_PA = err_PA1/np.sqrt(count)\n",
    "        struc_func.append(mean_PA)\n",
    "        error_func.append(err_PA)\n",
    "        error1_func.append(err_PA1)\n",
    "        count_array.append(count)\n",
    "    else:\n",
    "        struc_func.append(0)\n",
    "        error1_func.append(0)\n",
    "        error_func.append(0)\n",
    "\n",
    "\n",
    "struc_func = np.array(struc_func)\n",
    "error_func = np.array(error_func)\n",
    "error1_func = np.array(error1_func)\n",
    "struc_func = np.sqrt(struc_func**2 - error_func**2)\n"
   ]
  },
  {
   "cell_type": "code",
   "execution_count": 23,
   "metadata": {},
   "outputs": [
    {
     "name": "stdout",
     "output_type": "stream",
     "text": [
      "[ 6.88851986 25.94944107]\n"
     ]
    },
    {
     "data": {
      "image/png": "[encoded data removed]",
      "text/plain": [
       "<Figure size 432x288 with 1 Axes>"
      ]
     },
     "metadata": {
      "needs_background": "light"
     },
     "output_type": "display_data"
    }
   ],
   "source": [
    "def fitfun(l, m, b):\n",
    "  y = np.sqrt(b**2 + (m**2) * (l**2))\n",
    "  return y\n",
    "\n",
    "\n",
    "\n",
    "popt, pcov = curve_fit(fitfun, l_bins_centre[0:3], struc_func[0:3])\n",
    "line = np.arange(0,np.max(l_bins),0.5)\n",
    "fitted_line = fitfun(line,popt[0],popt[1])\n",
    "\n",
    "b = popt[1]\n",
    "b1 = popt[1]*math.pi/180\n",
    "perr = np.sqrt(np.diag(pcov))\n",
    "Bmag = b1/(math.sqrt(2-(b1**2)))\n",
    "print(b, b1, Bmag,perr)\n",
    "print(popt)\n",
    "plt.scatter(l_bins_centre,struc_func)\n",
    "plt.plot(line,fitted_line,'k')\n",
    "plt.ylim(0,60)\n",
    "plt.xlabel('l (arcmin)')\n",
    "plt.ylabel('Structure Function')\n",
    "plt.show()"
   ]
  }
 ],
 "metadata": {
  "interpreter": {
   "hash": "3eee712c20408e35334b755f29baa4b66325d95fa5db8bfe6cdf769c77362f50"
  },
  "kernelspec": {
   "display_name": "Python 3.9.7 ('polarimetry')",
   "language": "python",
   "name": "python3"
  },
  "language_info": {
   "codemirror_mode": {
    "name": "ipython",
    "version": 3
   },
   "file_extension": ".py",
   "mimetype": "text/x-python",
   "name": "python",
   "nbconvert_exporter": "python",
   "pygments_lexer": "ipython3",
   "version": "3.9.7"
  },
  "orig_nbformat": 4
 },
 "nbformat": 4,
 "nbformat_minor": 2
}
