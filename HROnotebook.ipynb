{
 "cells": [
  {
   "cell_type": "markdown",
   "metadata": {},
   "source": [
    "Importing all the packages"
   ]
  },
  {
   "cell_type": "code",
   "execution_count": 3,
   "metadata": {},
   "outputs": [],
   "source": [
    "import numpy as np\n",
    "import matplotlib.pyplot as plt\n",
    "from matplotlib import image\n",
    "import cv2\n",
    "import numpy as np\n",
    "import matplotlib.pyplot as plt\n",
    "import pandas as pd\n",
    "from PolarSi import *\n",
    "import matplotlib\n",
    "from scipy.optimize import curve_fit"
   ]
  },
  {
   "cell_type": "markdown",
   "metadata": {},
   "source": [
    "Importing the image of the clouds"
   ]
  },
  {
   "cell_type": "code",
   "execution_count": 4,
   "metadata": {},
   "outputs": [],
   "source": [
    "cloud = 'L328'\n",
    "\n",
    "path_RA_grid = 'HRO_images/'+cloud + '_RA_low_res_grid.npy'\n",
    "path_DEC_grid = 'HRO_images/'+cloud + '_DEC_low_res_grid.npy'\n",
    "path_image = 'HRO_images/' + cloud + '_low_res.png'\n",
    "\n",
    "# x_gradient,y_gradient,total_gradient,gradient_angle = Gaussian_derivative(path_image,25,1)"
   ]
  },
  {
   "cell_type": "markdown",
   "metadata": {},
   "source": [
    "Importing the polarization data\n",
    "\n",
    "#todo \n",
    "1. make a dummy dataset to check the polarization map generation (finished)\n",
    "2. test new methods of polarization map generation\n",
    "3. Try increasing the size of the gaussian derivative kernel"
   ]
  },
  {
   "cell_type": "code",
   "execution_count": 46,
   "metadata": {},
   "outputs": [],
   "source": [
    "def mapping_func(grid_xx,grid_yy,x,y,f_x_y,tol = 0.001):\n",
    "    \"\"\"mapping_func\n",
    "\n",
    "    This function maps f(x,y) onto (x,y) grid from a data array of x , y and f(x,y)\n",
    "    \n",
    "    Args:\n",
    "        grid_xx (2D array): x coordinates mesh \n",
    "        grid-yy (2D array): y coordinates mesh \n",
    "        x (1D array): x coordinate value at which f is evaluated\n",
    "        y (1D array): y coordinate value at which f is evaluated\n",
    "        f_x_y (1D array): value of f evaluated at x and y\n",
    "    Returns:\n",
    "        mappped_func (2D array): f(x,y) mapped into (x,y)\n",
    "    \"\"\"\n",
    "    mappped_func = np.zeros((grid_xx.shape[0],grid_yy.shape[1]))\n",
    "    for i in range(f_x_y.shape[0]):\n",
    "        temp = (abs(grid_xx - x[i])<tol)*(abs(grid_yy - y[i])<tol)*f_x_y[i]\n",
    "        mappped_func += temp*(mappped_func==0)\n",
    "    \n",
    "    # plt.imshow(mappped_func)\n",
    "    # plt.colorbar()\n",
    "    # plt.show()\n",
    "    # plot_image(mappped_func)\n",
    "    return mappped_func\n",
    "\n",
    "def mapping_funcv2(grid_xx,grid_yy,x,y,f_x_y,tol = 0.001):\n",
    "\n",
    "    mappped_func = np.zeros((grid_xx.shape[0],grid_yy.shape[1]))\n",
    "\n",
    "    for i in range(f_x_y.shape[0]):\n",
    "        temp = (abs(grid_xx - x[i])<tol)*(abs(grid_yy - y[i])<tol)*f_x_y[i]\n",
    "        mappped_func += (mappped_func*(temp != 0) + temp*(mappped_func != 0))*0.5 + temp*(mappped_func != 0)\n",
    "    # plt.imshow(mappped_func)\n",
    "    # plt.colorbar()\n",
    "    # plt.show()\n",
    "        # mappped_func += temp*(mappped_func==0)\n",
    "    return mappped_func\n",
    "\n",
    "def plot_image(a):\n",
    "    plt.imshow(a)\n",
    "    plt.colorbar()\n"
   ]
  },
  {
   "cell_type": "code",
   "execution_count": 58,
   "metadata": {},
   "outputs": [],
   "source": [
    "\n",
    "# dummy_polarization_data = np.zeros_like(RA_grid)\n",
    "# dummy_polarization_angle_data = np.zeros_like(RA_grid)\n",
    "# for i in range(0,RA_grid.shape[0],10):\n",
    "#     for j in range(0,RA_grid.shape[1],10):\n",
    "#         dummy_polarization_angle_data[i,j] = np.random.randint(0,180)\n",
    "#         dummy_polarization_data[i,j] = np.random.randint(1,6)\n",
    "\n",
    "\n",
    "# plot_image(dummy_polarization_angle_data)\n",
    "# RA_array = RA_grid.flatten()\n",
    "# DEC_array = DEC_grid.flatten()\n",
    "# dummy_polarization_array = dummy_polarization_data.flatten()\n",
    "# dummy_polarization_angle_array = dummy_polarization_angle_data.flatten()\n",
    "# output_df = pd.DataFrame({'ra':RA_array,'dec':DEC_array,'P':dummy_polarization_array,'PA':dummy_polarization_angle_array,})\n",
    "# output_df = output_df[output_df['P'] > 0]\n",
    "# print(output_df.head)\n",
    "# output_df.to_csv('data_files_generated/dummy_polarization_map_data.csv')"
   ]
  },
  {
   "cell_type": "code",
   "execution_count": 47,
   "metadata": {},
   "outputs": [
    {
     "data": {
      "image/png": "[encoded data removed]",
      "text/plain": [
       "<Figure size 432x288 with 2 Axes>"
      ]
     },
     "metadata": {
      "needs_background": "light"
     },
     "output_type": "display_data"
    },
    {
     "data": {
      "image/png": "[encoded data removed]",
      "text/plain": [
       "<Figure size 432x288 with 2 Axes>"
      ]
     },
     "metadata": {
      "needs_background": "light"
     },
     "output_type": "display_data"
    }
   ],
   "source": [
    "polarization_file = 'data_files_generated/dummy_polarization_map_data.csv'\n",
    "RA_grid = np.load(path_RA_grid)\n",
    "DEC_grid = np.load(path_DEC_grid)\n",
    "\n",
    "polarization_data = pd.read_csv(polarization_file,delimiter=',')\n",
    "polarization_RA = polarization_data['ra'][0:100]\n",
    "polarization_DEC = polarization_data['dec'][0:100]\n",
    "polarization = polarization_data['P'][0:100]\n",
    "polarization_angle = polarization_data['PA'][0:100]\n",
    "tol = abs(DEC_grid[1,0]-DEC_grid[0,0])*5\n",
    "\n",
    "a = mapping_func(RA_grid,DEC_grid,polarization_RA,polarization_DEC,polarization_angle,tol)\n",
    "\n",
    "b = mapping_funcv2(RA_grid,DEC_grid,polarization_RA,polarization_DEC,polarization_angle,tol)\n",
    "\n",
    "\n",
    "\n",
    "# optical_pa_mod = Polarization_angle+360\n",
    "\n",
    "# optical_polarization_data_map = mapping_func(RA_grid,DEC_grid,polarization_RA,polarization_DEC,optical_pa_mod,tol)"
   ]
  },
  {
   "cell_type": "code",
   "execution_count": 41,
   "metadata": {},
   "outputs": [
    {
     "name": "stdout",
     "output_type": "stream",
     "text": [
      "<bound method NDFrame.head of       Unnamed: 0          ra        dec    P     PA\n",
      "0              0  274.338249 -18.328482  1.0  164.0\n",
      "1             10  274.328930 -18.328482  1.0  158.0\n",
      "2             20  274.319611 -18.328482  5.0  146.0\n",
      "3             30  274.310291 -18.328482  5.0   51.0\n",
      "4             40  274.300972 -18.328482  3.0   44.0\n",
      "...          ...         ...        ...  ...    ...\n",
      "1035      101610  274.142545 -17.964913  4.0  117.0\n",
      "1036      101620  274.133225 -17.964913  3.0  132.0\n",
      "1037      101630  274.123906 -17.964913  1.0   43.0\n",
      "1038      101640  274.114587 -17.964913  2.0  144.0\n",
      "1039      101650  274.105268 -17.964913  4.0   48.0\n",
      "\n",
      "[1040 rows x 5 columns]>\n"
     ]
    }
   ],
   "source": []
  },
  {
   "cell_type": "markdown",
   "metadata": {},
   "source": [
    "#todo\n",
    "\n",
    "1. try to do it with vector multiplication. This would help us remove the need for masks"
   ]
  },
  {
   "cell_type": "code",
   "execution_count": null,
   "metadata": {},
   "outputs": [],
   "source": []
  }
 ],
 "metadata": {
  "interpreter": {
   "hash": "fe261906397c3710ca51e4ab42e0aacf8d4fc5a923bf090cdb2ea5f8f3e06871"
  },
  "kernelspec": {
   "display_name": "Python 3.10.4 ('polarimetry')",
   "language": "python",
   "name": "python3"
  },
  "language_info": {
   "codemirror_mode": {
    "name": "ipython",
    "version": 3
   },
   "file_extension": ".py",
   "mimetype": "text/x-python",
   "name": "python",
   "nbconvert_exporter": "python",
   "pygments_lexer": "ipython3",
   "version": "3.10.4"
  },
  "orig_nbformat": 4
 },
 "nbformat": 4,
 "nbformat_minor": 2
}
