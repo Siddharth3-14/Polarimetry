{
 "cells": [
  {
   "cell_type": "code",
   "execution_count": 1,
   "metadata": {},
   "outputs": [],
   "source": [
    "import numpy as np\n",
    "import matplotlib.pyplot as plt\n",
    "from matplotlib import image\n",
    "import cv2\n",
    "import numpy as np\n",
    "import matplotlib.pyplot as plt\n",
    "import pandas as pd\n",
    "from PolarSi import *\n",
    "import matplotlib\n"
   ]
  },
  {
   "cell_type": "code",
   "execution_count": 2,
   "metadata": {},
   "outputs": [
    {
     "name": "stdout",
     "output_type": "stream",
     "text": [
      "optical file\n",
      "bottom left corner 274.4131759592302 -18.45936668420353\n",
      "top right corner 273.66390737416975 -17.70985553801647\n"
     ]
    }
   ],
   "source": [
    "FITs_file = 'FITS_files/Optical/Halp_rsubt_L328_323_331.fits'\n",
    "data  = FITS(FITs_file)\n",
    "data.generate_RA_DEC_mesh()\n",
    "print('optical file')\n",
    "print('bottom left corner',np.amax(data.RA_grid),np.amin(data.DEC_grid))\n",
    "print('top right corner',np.amin(data.RA_grid),np.amax(data.DEC_grid))\n"
   ]
  },
  {
   "cell_type": "code",
   "execution_count": 3,
   "metadata": {},
   "outputs": [],
   "source": [
    "plank_data = data.data\n",
    "bottom_xy_L328 = [400,700]\n",
    "top_xy_L328 = [1700,2700]\n",
    "\n",
    "bottom_xy_L323 = [2100,450]\n",
    "top_xy_L323 = [3700,2250]\n",
    "\n",
    "bottom_xy_L331 = [490,2500]\n",
    "top_xy_L331 = [1600,3400]\n",
    "\n",
    "L328_image = slicing(bottom_xy_L328,top_xy_L328,plank_data)\n",
    "L328_RA_grid = slicing(bottom_xy_L328,top_xy_L328,data.RA_grid)\n",
    "L328_DEC_grid = slicing(bottom_xy_L328,top_xy_L328,data.DEC_grid)\n",
    "\n",
    "lower_res_image,_ = bining_avg(L328_image,5)\n",
    "lower_res_RA,_ = bining_avg(L328_RA_grid,5)\n",
    "lower_res_DEC,_ = bining_avg(L328_DEC_grid,5)"
   ]
  },
  {
   "cell_type": "code",
   "execution_count": 5,
   "metadata": {},
   "outputs": [
    {
     "data": {
      "image/png": "[encoded data removed]",
      "text/plain": [
       "<Figure size 432x288 with 1 Axes>"
      ]
     },
     "metadata": {
      "needs_background": "light"
     },
     "output_type": "display_data"
    }
   ],
   "source": [
    "lower_res_image = lower_res_image\n",
    "lower_res_image_mod = (lower_res_image<2000)\n",
    "lower_res_image_mod = (0<lower_res_image)*lower_res_image_mod*50\n",
    "plt.imshow(lower_res_image_mod)\n",
    "plt.show()\n"
   ]
  },
  {
   "cell_type": "code",
   "execution_count": 6,
   "metadata": {},
   "outputs": [],
   "source": [
    "matplotlib.image.imsave('L328_low_res.png', lower_res_image_mod)"
   ]
  },
  {
   "cell_type": "code",
   "execution_count": 7,
   "metadata": {},
   "outputs": [
    {
     "name": "stderr",
     "output_type": "stream",
     "text": [
      "/home/siddharth/Documents/Polarimetry/main project/PolarSi.py:351: RuntimeWarning: divide by zero encountered in ubyte_scalars\n",
      "  return (180/np.pi)*np.arctan(x/y)\n"
     ]
    }
   ],
   "source": [
    "a,b,c,d = Gaussian_derivative('HRO_images/L328_low_res.png',25,1)"
   ]
  },
  {
   "cell_type": "code",
   "execution_count": 86,
   "metadata": {},
   "outputs": [],
   "source": [
    "optical_polarization_data = pd.read_csv('data_gaia_added/L328_pol_full_mod2.csv', delimiter=',')\n",
    "optical_ra = np.array(optical_polarization_data['ra'])\n",
    "optical_dec = np.array(optical_polarization_data['dec'])\n",
    "optical_pa = np.array(optical_polarization_data['PA'])\n",
    "optical_pa_mod = optical_pa -180*(optical_pa>125)*np.ones_like(optical_pa)+360\n",
    "\n",
    "tol = abs(lower_res_DEC[1,0]-lower_res_DEC[0,0])*2\n",
    "\n",
    "optical_polarization_data_map = mapping_func(lower_res_RA,lower_res_DEC,optical_ra,optical_dec,optical_pa_mod,tol)\n",
    "mask_polarization_map = (optical_polarization_data_map>0)\n",
    "mask_gradient = (c>0)\n",
    "not_mask_polarization_map = (mask_polarization_map==0)\n",
    "not_mask_gradient = (c==0)"
   ]
  },
  {
   "cell_type": "code",
   "execution_count": 87,
   "metadata": {},
   "outputs": [
    {
     "data": {
      "image/png": "[encoded data removed]",
      "text/plain": [
       "<Figure size 432x288 with 1 Axes>"
      ]
     },
     "metadata": {
      "needs_background": "light"
     },
     "output_type": "display_data"
    }
   ],
   "source": [
    "plt.imshow(optical_polarization_data_map*mask_gradient)\n",
    "plt.show()\n"
   ]
  },
  {
   "cell_type": "code",
   "execution_count": 88,
   "metadata": {},
   "outputs": [],
   "source": [
    "relative_orientation = (d*mask_polarization_map - optical_polarization_data_map*mask_gradient + (not_mask_polarization_map+not_mask_gradient)*(-720))\n",
    "  "
   ]
  },
  {
   "cell_type": "code",
   "execution_count": 89,
   "metadata": {},
   "outputs": [],
   "source": [
    "l = (relative_orientation[-360<relative_orientation] +360)\n",
    "\n"
   ]
  },
  {
   "cell_type": "code",
   "execution_count": 90,
   "metadata": {},
   "outputs": [
    {
     "data": {
      "text/plain": [
       "(array([ 0.,  0.,  0.,  0.,  0.,  0.,  0.,  0.,  0.,  0.,  0.,  0.,  0.,\n",
       "         0.,  0.,  0.,  0.,  0.,  6., 19.,  7., 18.,  9., 15., 22., 11.,\n",
       "        33.,  3.,  5.,  7.,  6.,  0.,  0.,  0.,  0.,  0.,  0.,  0.,  0.]),\n",
       " array([-180, -170, -160, -150, -140, -130, -120, -110, -100,  -90,  -80,\n",
       "         -70,  -60,  -50,  -40,  -30,  -20,  -10,    0,   10,   20,   30,\n",
       "          40,   50,   60,   70,   80,   90,  100,  110,  120,  130,  140,\n",
       "         150,  160,  170,  180,  190,  200,  210]),\n",
       " [<matplotlib.patches.Polygon at 0x7f42a8096070>])"
      ]
     },
     "execution_count": 90,
     "metadata": {},
     "output_type": "execute_result"
    },
    {
     "data": {
      "image/png": "[encoded data removed]",
      "text/plain": [
       "<Figure size 432x288 with 1 Axes>"
      ]
     },
     "metadata": {
      "needs_background": "light"
     },
     "output_type": "display_data"
    }
   ],
   "source": [
    "bins_array = np.arange(-180,220,10)\n",
    "fig = plt.figure()\n",
    "ax1 = fig.add_subplot(121)\n",
    "ax1.hist(l, bins_array ,color='k',histtype = 'step')"
   ]
  },
  {
   "cell_type": "code",
   "execution_count": null,
   "metadata": {},
   "outputs": [],
   "source": []
  },
  {
   "cell_type": "code",
   "execution_count": null,
   "metadata": {},
   "outputs": [],
   "source": [
    "# fig = plt.figure()\n",
    "# ax1 = fig.add_subplot(131)\n",
    "# ax1.imshow(L328_image,origin='lower')\n",
    "# ax2 = fig.add_subplot(132)\n",
    "# ax2.imshow(d,origin='lower')\n",
    "# ax3 = fig.add_subplot(133)\n",
    "# ax3.imshow(optical_polarization_data_map,origin='lower')\n",
    "# # ax3.imshow(c,origin='lower')\n",
    "# plt.show()"
   ]
  },
  {
   "cell_type": "code",
   "execution_count": null,
   "metadata": {},
   "outputs": [],
   "source": []
  },
  {
   "cell_type": "code",
   "execution_count": null,
   "metadata": {},
   "outputs": [],
   "source": []
  }
 ],
 "metadata": {
  "interpreter": {
   "hash": "3eee712c20408e35334b755f29baa4b66325d95fa5db8bfe6cdf769c77362f50"
  },
  "kernelspec": {
   "display_name": "Python 3.9.7 ('polarimetry')",
   "language": "python",
   "name": "python3"
  },
  "language_info": {
   "codemirror_mode": {
    "name": "ipython",
    "version": 3
   },
   "file_extension": ".py",
   "mimetype": "text/x-python",
   "name": "python",
   "nbconvert_exporter": "python",
   "pygments_lexer": "ipython3",
   "version": "3.9.7"
  },
  "orig_nbformat": 4
 },
 "nbformat": 4,
 "nbformat_minor": 2
}
