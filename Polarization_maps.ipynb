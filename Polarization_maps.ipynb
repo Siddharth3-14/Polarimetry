{
 "cells": [
  {
   "cell_type": "code",
   "execution_count": 1,
   "metadata": {},
   "outputs": [],
   "source": [
    "import numpy as np\n",
    "# import pyfits\n",
    "import matplotlib.pyplot as plt\n",
    "\n",
    "from astropy import units as u\n",
    "from astropy.coordinates import SkyCoord\n",
    "import pandas as pd\n",
    "from astropy.io import fits\n",
    "from astropy.wcs import WCS\n",
    "from PolarSi import PolarFITS"
   ]
  },
  {
   "cell_type": "code",
   "execution_count": 13,
   "metadata": {},
   "outputs": [
    {
     "name": "stdout",
     "output_type": "stream",
     "text": [
      "plank file\n",
      "bottom left corner 274.7015924055442 -17.98024047811011\n",
      "top right corner 274.6944037223554 -17.97305179492156\n"
     ]
    }
   ],
   "source": [
    "#import plank files\n",
    "plank_I_fits = fits.open('FITS_files/stokes/Stokes_I_mod.fits')[0]\n",
    "plank_Q_fits = fits.open('FITS_files/stokes/Stokes_Q_mod.fits')[0]\n",
    "plank_U_fits = fits.open('FITS_files/stokes/Stokes_U_mod.fits')[0]\n",
    "\n",
    "#Get the header values\n",
    "Plank_RA_delt = plank_I_fits.header['CDELT1']\n",
    "Plank_DEC_delt = plank_I_fits.header['CDELT2']\n",
    "Plank_RA_ref = int(plank_I_fits.header['CRPIX1'])\n",
    "Plank_DEC_ref = int(plank_I_fits.header['CRPIX2'])\n",
    "Plank_RA_ref_value = plank_I_fits.header['CRVAL1']\n",
    "Plank_DEC_ref_value = plank_I_fits.header['CRVAL2']\n",
    "Plank_RA_axis_len = plank_I_fits.header['NAXIS1']\n",
    "Plank_DEC_axis_len = plank_I_fits.header['NAXIS2']\n",
    "\n",
    "#Generate the plank RA DEC mesh\n",
    "Plank_RA_axis = np.arange(0,Plank_RA_axis_len,1)\n",
    "Plank_DEC_axis = np.arange(0,Plank_DEC_axis_len,1)\n",
    "Plank_RA_axis = Plank_RA_ref_value - Plank_RA_delt*(Plank_RA_ref - Plank_RA_axis)\n",
    "Plank_DEC_axis = Plank_DEC_ref_value - Plank_DEC_delt*(Plank_DEC_axis - Plank_DEC_ref)\n",
    "\n",
    "#making a meshgrid from the arrays\n",
    "Plank_DEC_grid,Plank_RA_grid = np.meshgrid(Plank_DEC_axis,Plank_RA_axis , sparse=False, indexing='ij')\n",
    "\n",
    "Plank_DEC_grid = Plank_DEC_grid\n",
    "Plank_RA_grid = Plank_RA_grid\n",
    "#Take the data files from plank fits file\n",
    "plank_I_data = plank_I_fits.data\n",
    "plank_Q_data = plank_Q_fits.data\n",
    "plank_U_data = plank_U_fits.data\n",
    "\n",
    "\n",
    "# #calculating polarization and polarization angle\n",
    "plank_polarization = np.sqrt(plank_Q_data*plank_Q_data + plank_U_data*plank_U_data)/plank_I_data\n",
    "ratio = plank_U_data/plank_Q_data\n",
    "plank_theta_mod = (180/np.pi)*0.5*np.arctan(plank_U_data/plank_Q_data) + 90 + 63\n",
    "\n",
    "print('plank file')\n",
    "print('bottom left corner',np.amax(Plank_RA_grid),np.amin(Plank_DEC_grid))\n",
    "print('top right corner',np.amin(Plank_RA_grid),np.amax(Plank_DEC_grid))\n"
   ]
  },
  {
   "cell_type": "code",
   "execution_count": 10,
   "metadata": {},
   "outputs": [
    {
     "name": "stdout",
     "output_type": "stream",
     "text": [
      "fits file\n",
      "bottom left corner 274.4131759592302 -18.45936668420353\n",
      "top right corner 273.66390737416975 -17.70985553801647\n"
     ]
    }
   ],
   "source": [
    "FITs_file = 'FITS_files/Halp_rsubt_L328_323_331.fits'\n",
    "data  = PolarFITS(FITs_file)\n",
    "# data.print_info()\n",
    "data.generate_RA_DEC_mesh()\n",
    "print('optical file')\n",
    "print('bottom left corner',np.amax(data.RA_grid),np.amin(data.DEC_grid))\n",
    "print('top right corner',np.amin(data.RA_grid),np.amax(data.DEC_grid))\n"
   ]
  },
  {
   "cell_type": "code",
   "execution_count": 2,
   "metadata": {},
   "outputs": [],
   "source": []
  },
  {
   "cell_type": "code",
   "execution_count": 3,
   "metadata": {},
   "outputs": [
    {
     "name": "stdout",
     "output_type": "stream",
     "text": [
      "fits file\n",
      "bottom left corner 274.4131759592302 -18.45936668420353\n",
      "top right corner 273.66390737416975 -17.70985553801647\n"
     ]
    }
   ],
   "source": [
    "\n",
    "\n",
    "\n"
   ]
  },
  {
   "cell_type": "code",
   "execution_count": 4,
   "metadata": {},
   "outputs": [
    {
     "name": "stdout",
     "output_type": "stream",
     "text": [
      "<bound method NDFrame.head of        Unnamed: 0          ra        dec         P         PA\n",
      "24624      198727  274.412627 -18.454793  0.022103  44.093945\n",
      "24625      198728  274.406117 -18.454793  0.013832 -40.161310\n",
      "24626      198729  274.399608 -18.454793  0.013293  39.861977\n",
      "24627      198730  274.393098 -18.454793  0.013293  39.861977\n",
      "24628      198731  274.386589 -18.454793  0.018493 -24.261250\n",
      "...           ...         ...        ...       ...        ...\n",
      "64585      354562  273.690072 -17.712710  0.003713  10.205969\n",
      "64586      354563  273.683562 -17.712710  0.003731  31.836636\n",
      "64587      354564  273.677053 -17.712710  0.003731  31.836636\n",
      "64588      354565  273.670543 -17.712710  0.002966  20.581260\n",
      "64589      354566  273.664034 -17.712710  0.002966  20.581260\n",
      "\n",
      "[13340 rows x 5 columns]>\n",
      "Polarization\n",
      "bottom left corner 274.4126265637696 -18.454792997720467\n",
      "top right corner 273.66403391792977 -17.712709853173813\n"
     ]
    }
   ],
   "source": [
    "Polarization_data = pd.read_csv(polarization_file,delimiter=',')\n",
    "\n",
    "\n",
    "Polarization_data = Polarization_data[Polarization_data['ra']<np.amax(data.RA_grid)]\n",
    "Polarization_data = Polarization_data[Polarization_data['ra']>np.amin(data.RA_grid)]\n",
    "Polarization_data = Polarization_data[Polarization_data['dec']>np.amin(data.DEC_grid)]\n",
    "Polarization_data = Polarization_data[Polarization_data['dec']<np.amax(data.DEC_grid)]\n",
    "print(Polarization_data.head)\n",
    "\n",
    "RA_array = np.array(Polarization_data['ra'])\n",
    "DEC_array = np.array(Polarization_data['dec'])\n",
    "\n",
    "print('Polarization')\n",
    "print('bottom left corner',np.amax(RA_array),np.amin(DEC_array))\n",
    "print('top right corner',np.amin(RA_array),np.amax(DEC_array))\n",
    "\n",
    "\n",
    "\n",
    "\n",
    "\n",
    "\n",
    "\n",
    "\n",
    "\n",
    "\n",
    " "
   ]
  },
  {
   "cell_type": "code",
   "execution_count": 101,
   "metadata": {},
   "outputs": [
    {
     "name": "stdout",
     "output_type": "stream",
     "text": [
      "(9, 5)\n",
      "RA delt 0.00018638522016090064\n",
      "DEC delt 0.0001864455587536895\n",
      "0.022102823\n",
      "0.013832353\n",
      "0.01329309\n",
      "0.022102823\n",
      "0.013832353\n",
      "0.013832353\n",
      "0.024696747\n",
      "0.013832353\n",
      "0.013832353\n"
     ]
    },
    {
     "data": {
      "image/png": "[encoded data removed]",
      "text/plain": [
       "<Figure size 432x288 with 1 Axes>"
      ]
     },
     "metadata": {
      "needs_background": "light"
     },
     "output_type": "display_data"
    },
    {
     "data": {
      "image/png": "[encoded data removed]",
      "text/plain": [
       "<Figure size 432x288 with 1 Axes>"
      ]
     },
     "metadata": {
      "needs_background": "light"
     },
     "output_type": "display_data"
    }
   ],
   "source": [
    "Polarization_map = np.ones_like(data.DEC_grid)\n",
    "Polarization_angle_map = np.ones_like(data.DEC_grid)\n",
    "\n",
    "RA_grid = data.RA_grid[0:200,0:200]\n",
    "DEC_grid = data.DEC_grid[0:200,0:200]\n",
    "\n",
    "# print(RA_grid)\n",
    "# print(DEC_grid)\n",
    "\n",
    "\n",
    "\n",
    "Polarization_data = Polarization_data[Polarization_data['ra']<np.amax(RA_grid)]\n",
    "Polarization_data = Polarization_data[Polarization_data['ra']>np.amin(RA_grid )]\n",
    "Polarization_data = Polarization_data[Polarization_data['dec']>np.amin(DEC_grid)]\n",
    "Polarization_data = Polarization_data[Polarization_data['dec']<np.amax(DEC_grid)]\n",
    "print(Polarization_data.shape)\n",
    "\n",
    "def polarization_mapping(polarization_array,RA_grid,DEC_grid):\n",
    "\n",
    "    RA_delt = abs(RA_grid[0,1] -RA_grid[0,0])\n",
    "    DEC_delt = abs(DEC_grid[2,0]-DEC_grid[1,0])\n",
    "    print('RA delt',RA_delt)\n",
    "    print('DEC delt',DEC_delt)\n",
    "    def Search_data(polarization_array,RA,DEC):\n",
    "        polarization_array = polarization_array[abs(polarization_array['ra'] - RA) < RA_delt/2]\n",
    "        polarization_array = polarization_array[abs(polarization_array['dec'] - DEC)< DEC_delt/2]\n",
    "        if polarization_array.shape[0] != 0:\n",
    "            a  = np.array(polarization_array['P'])\n",
    "            print(a[0])\n",
    "            # return polarization_array['P'][0]\n",
    "            return 1\n",
    "        else:\n",
    "            return 0\n",
    "    Polarization_map = np.zeros_like(DEC_grid)\n",
    "    for i in range(DEC_grid.shape[0]):\n",
    "        for j in range(DEC_grid.shape[1]):\n",
    "            Polarization_map[i,j] = Search_data(polarization_array,RA_grid[i,j],DEC_grid[i,j])\n",
    "    return Polarization_map\n",
    "            \n",
    "\n",
    "a = polarization_mapping(Polarization_data,RA_grid,DEC_grid)\n",
    "plt.imshow(a)\n",
    "plt.show(0)\n"
   ]
  }
 ],
 "metadata": {
  "interpreter": {
   "hash": "fe261906397c3710ca51e4ab42e0aacf8d4fc5a923bf090cdb2ea5f8f3e06871"
  },
  "kernelspec": {
   "display_name": "Python 3.10.4 ('polarimetry')",
   "language": "python",
   "name": "python3"
  },
  "language_info": {
   "codemirror_mode": {
    "name": "ipython",
    "version": 3
   },
   "file_extension": ".py",
   "mimetype": "text/x-python",
   "name": "python",
   "nbconvert_exporter": "python",
   "pygments_lexer": "ipython3",
   "version": "3.10.4"
  },
  "orig_nbformat": 4
 },
 "nbformat": 4,
 "nbformat_minor": 2
}
